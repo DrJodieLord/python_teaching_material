{
 "cells": [
  {
   "cell_type": "markdown",
   "metadata": {},
   "source": [
    "# 5PAHPPSY: Big Data Analytics in Python: Revision Exercises\n",
    "\n",
    "___\n",
    "\n",
    "_Jodie Lord<br/>\n",
    "Department of Basic and Clinical Neuroscience<br/>\n",
    "Institute of Psychiatry, Psychology and Neuroscience<br/>\n",
    "King's College London<br/>\n",
    "jodie.lord@kcl.ac.uk_\n",
    "___"
   ]
  },
  {
   "cell_type": "markdown",
   "metadata": {},
   "source": [
    "Below are a selection of exercises relating to topics covered across our 4 weeks of learning.\n",
    "\n",
    "\n",
    "Exercises are completely optional but will benefit in reinforcing what you've learnt ready for the assessment.\n",
    "\n",
    "\n",
    "You may fill out as little or as many of the exercises as you wish - I suggest attempting to tackle the concepts / topics you struggle with most, as you will find most benefit from this.\n",
    "\n",
    "\n",
    "If you wish for **formative feedback** on any code attempted, please submit an attempted .ipynb file to me **BEFORE April 3rd (5pm)** to ensure I have enough time to provide feedback before the summative assessment deadline. Please note however:\n",
    "- Only **one round of feedback per student** will be provided, so make sure you have attempted all of the exercises you wish to cover before emailing through your file.\n",
    "- If you are struggling with a question / section and would like me to provide guidance / solution for that section, please provide a `#solution required` comment within the code chunk for that question. Note, no solution will be provided unless there is evidence that you have at least made an attempt at the question.\n",
    "- You do not have to complete every section for formative feedback, one or two completed sections based on what is most useful to your own learning is completely acceptable."
   ]
  },
  {
   "cell_type": "markdown",
   "metadata": {},
   "source": [
    "___________\n",
    "### A reminder of the basics\n",
    "_____________"
   ]
  },
  {
   "cell_type": "markdown",
   "metadata": {},
   "source": [
    "- Create a string variable: \"I know how to create variables\" and assigning it to a sensible variable name.\n",
    "\n",
    "\n",
    "- Print your newly assigned variable into the notebook.\n",
    "\n",
    "\n",
    "- Create 2 number variables, the first named number1 and the second named number2.\n",
    "\n",
    "\n",
    "- Create a third number variable which adds the value of number1 and number2 together. Name this variable number_total.\n",
    "\n",
    "\n",
    "- Print the number_total variable into the notebook.\n",
    "\n",
    "\n",
    "- Create a fourth variable which takes number_total and divides it by 2. Name this variable number_divided.\n",
    "\n",
    "\n",
    "- Print the number_divided variable into the notebook.\n",
    "\n",
    "\n",
    "- Multiply number_divided by number1. Assign this to a variable named final_number_variable.\n",
    "\n",
    "\n",
    "- Print final_number_variable into the notebook.\n"
   ]
  },
  {
   "cell_type": "markdown",
   "metadata": {},
   "source": [
    "_____________\n",
    "### Lists, tuples, and data dictionaries\n",
    "______________"
   ]
  },
  {
   "cell_type": "markdown",
   "metadata": {},
   "source": [
    "- Creat list called \"height_and_weight\" which contains 10 tuples with the following values (2 values per tuple):\n",
    "    - 1.82, 60\n",
    "    - 1.85, 72\n",
    "    - 1.87, 69\n",
    "    - 1.77, 95\n",
    "    - 1.74, 97\n",
    "    - 1.59, 51\n",
    "    - 1.66, 72\n",
    "    - 1.55, 49\n",
    "    - 1.66, 75\n",
    "    - 1.59, 77\n",
    "    \n",
    "    \n",
    "- Print your list into the notebook\n",
    "\n",
    "\n",
    "- Retrieve and print the tuple containing the values `1.74, 97` from within the list\n",
    "\n",
    "\n",
    "- Remove the 3rd tuple within the list - then print the list into the notebook\n",
    "\n",
    "\n",
    "- Create another list called underweight which contains the following 3 tuples:\n",
    "    - 1.67, 41\n",
    "    - 1.62, 45\n",
    "    - 1.75, 43\n",
    "    \n",
    "    \n",
    " - append the underweight list onto the height_and_weight list. Print this into the notebook."
   ]
  },
  {
   "cell_type": "code",
   "execution_count": 47,
   "metadata": {},
   "outputs": [
    {
     "name": "stdout",
     "output_type": "stream",
     "text": [
      "[(1.82, 60), (1.85, 72), (1.87, 69), (1.77, 95), (1.74, 97), (1.59, 51), (1.66, 72), (1.55, 49), (1.66, 75), (1.59, 77)]\n",
      "(1.74, 97)\n",
      "[(1.82, 60), (1.85, 72), (1.77, 95), (1.74, 97), (1.59, 51), (1.66, 72), (1.55, 49), (1.66, 75), (1.59, 77)]\n",
      "[(1.82, 60), (1.85, 72), (1.77, 95), (1.74, 97), (1.59, 51), (1.66, 72), (1.55, 49), (1.66, 75), (1.59, 77), [(1.67, 41), (1.62, 45), (1.75, 43)]]\n"
     ]
    }
   ],
   "source": [
    "# create height_and_weight list\n",
    "height_and_weight=[(1.82, 60), (1.85, 72), (1.87, 69), (1.77, 95), (1.74, 97),\n",
    "                 (1.59, 51), (1.66, 72), (1.55, 49), (1.66, 75), (1.59, 77)]\n",
    "\n",
    "\n",
    "# print list to notebook\n",
    "print(height_and_weight)\n",
    "\n",
    "\n",
    "# print 1.74,97 into notebook\n",
    "print(height_and_weight[4])\n",
    "\n",
    "\n",
    "# remove the third tuple in list \n",
    "del height_and_weight[2]\n",
    "\n",
    "\n",
    "# printo into notebook\n",
    "print(height_and_weight)\n",
    "\n",
    "\n",
    "# create underweight list\n",
    "underweight=[(1.67,41), (1.62,45), (1.75,43)]\n",
    "\n",
    "\n",
    "# append underweight values to height_and_weight\n",
    "height_and_weight.append(underweight)\n",
    "\n",
    "# print into jupyter\n",
    "print(height_and_weight)"
   ]
  },
  {
   "cell_type": "markdown",
   "metadata": {},
   "source": [
    "- Generate the same 12 height and weight values in your last printout of the height_and_weight list, but this time generated as a dictionary, with each height and weight pair assigned a unique patient key (e.g. patient_1, patient_2 ... patient_12. Note: you will want to be able to update these assigned value pairs in the future. \n",
    "- Name this `height_weight_dict` and print into notebook\n",
    "\n",
    "- for each patient, the first value represents their height in meters and the second value represents their weight in kg. \n",
    "    - Print out the **height only** for patient_2 within the dictionary\n",
    "    - Print the height and weight values for patient_4 into the notebook\n",
    "    - Replace the weight value for patient_4 from 97 to 89\n",
    "    - re-print the height and weight values for patient_4 into the notebook\n",
    "\n",
    "- Add a new patient to the height_weight_dict: patient_13 which has a weight of 64 and height of 1.71\n",
    "\n",
    "- print the dict into the notebook"
   ]
  },
  {
   "cell_type": "code",
   "execution_count": 62,
   "metadata": {},
   "outputs": [
    {
     "name": "stdout",
     "output_type": "stream",
     "text": [
      "{'patient_1': [1.82, 60], 'patient_2': [1.85, 72], 'patient_3': [1.77, 95], 'patient_4': [1.74, 97]}\n",
      "1.85\n",
      "[1.74, 97]\n",
      "[1.74, 89]\n",
      "{'patient_1': [1.82, 60], 'patient_2': [1.85, 72], 'patient_3': [1.77, 95], 'patient_4': [1.74, 89], 'patient_13': [1.71, 64]}\n"
     ]
    }
   ],
   "source": [
    "# Create dict named height_weight_dict with 12 patient height and weight values, each assigned to a patient key\n",
    "height_weight_dict={'patient_1':[1.82, 60], 'patient_2':[1.85, 72], \n",
    "                    'patient_3':[1.77, 95], 'patient_4':[1.74, 97]} #using list rather than tuples so can change values lateer\n",
    "\n",
    "\n",
    "# print dict to notebook\n",
    "print(height_weight_dict)\n",
    "\n",
    "\n",
    "# print height value only for patient_2 within the dict\n",
    "print(height_weight_dict['patient_2'][0])\n",
    "                         \n",
    "\n",
    "# print the height and weight values for patient_4 into notebook: \n",
    "print(height_weight_dict['patient_4'])\n",
    "\n",
    "\n",
    "# replace the weight value for patient_4 from 97 to 89\n",
    "height_weight_dict['patient_4'][1]=89\n",
    "\n",
    "\n",
    "# re-print height and weight for patient_4\n",
    "print(height_weight_dict['patient_4']) # notice how it has updated\n",
    "\n",
    "\n",
    "# add new patient to height_weight_dict\n",
    "height_weight_dict['patient_13']=[1.71,64]\n",
    "\n",
    "\n",
    "# print dict into notebook\n",
    "print(height_weight_dict)"
   ]
  },
  {
   "cell_type": "markdown",
   "metadata": {},
   "source": [
    "_____________\n",
    "### Loading and merging data tables\n",
    "_____________"
   ]
  },
  {
   "cell_type": "markdown",
   "metadata": {},
   "source": [
    "**Load in your data**\n",
    "\n",
    "- Within your Keats revision folder you will find a .csv file named, \"python_revision_data1.csv\". Start by downloading this onto your local computer and loading it into the Jupyter Notebook \n",
    "- Assign the table the object name `rev_df`.\n",
    "\n",
    "\n",
    "_Hint: Remember to have the correct python packages imported to allow you to upload this material appropriately_"
   ]
  },
  {
   "cell_type": "code",
   "execution_count": 6,
   "metadata": {},
   "outputs": [],
   "source": [
    "# load in data and name it rev_df\n",
    "\n"
   ]
  },
  {
   "cell_type": "markdown",
   "metadata": {},
   "source": [
    "**Explore the contents of the data**\n",
    "\n",
    "- Print the first 10 rows of the data table\n",
    "\n",
    "\n",
    "- Print the tail of the data table\n",
    "\n",
    "\n",
    "- Establish how many rows and how many columns the data table consists of\n",
    "    - Explicitly state how many rows and how many columns you understand there to be based on the code returned\n",
    "\n",
    "\n",
    "- Investigate the different datatypes within the data table\n",
    "    - How many columns consist of integer values?\n",
    "    - What data type does the column \"Gender\" consist of?\n",
    "\n",
    "\n",
    "- Establish whether there are any missing/null values\n",
    "    - Which columns contain missing values?\n",
    "    - Given what we now know about the number of rows, is there any null containing columns which strike you as odd?"
   ]
  },
  {
   "cell_type": "code",
   "execution_count": null,
   "metadata": {},
   "outputs": [],
   "source": [
    "# first 10 rows\n"
   ]
  },
  {
   "cell_type": "code",
   "execution_count": null,
   "metadata": {},
   "outputs": [],
   "source": [
    "# tail of data table\n"
   ]
  },
  {
   "cell_type": "code",
   "execution_count": null,
   "metadata": {},
   "outputs": [],
   "source": [
    "# how many rows and columns\n"
   ]
  },
  {
   "cell_type": "code",
   "execution_count": null,
   "metadata": {},
   "outputs": [],
   "source": [
    "# datatypes\n"
   ]
  },
  {
   "cell_type": "code",
   "execution_count": null,
   "metadata": {},
   "outputs": [],
   "source": [
    "# how many missing values and where - any odd ones?\n"
   ]
  },
  {
   "cell_type": "markdown",
   "metadata": {},
   "source": [
    "**Merge in additional information from a separate data table**\n",
    "\n",
    "\n",
    "You will find a second data table within your keats assessment folder named, \"paricipant_age_calculations.csv\".\n",
    "\n",
    "\n",
    "- Download this data table and load into your notebook. Name this table participant_ages.\n",
    "\n",
    "\n",
    "- Briefly explore the participant_ages table:\n",
    "    - What is the shape of the data table? How does this compare to the shape of the df_nonulls table?\n",
    "    - What column names does the table consist of? Are any of these the same as your df_nonulls table?"
   ]
  },
  {
   "cell_type": "code",
   "execution_count": null,
   "metadata": {},
   "outputs": [],
   "source": [
    "# load in participant_ages\n"
   ]
  },
  {
   "cell_type": "code",
   "execution_count": null,
   "metadata": {},
   "outputs": [],
   "source": [
    "# explore participant_ages dataset\n"
   ]
  },
  {
   "cell_type": "markdown",
   "metadata": {},
   "source": [
    "- A clinical has come to you and explained that they need you to create a \"master data file\" which contains information across all patients for all/any data we have stored for them.\n",
    "\n",
    "\n",
    "- Create a new table which merges the particpant_ages information with the rev_df table.\n",
    "    - retain all samples across both tables.\n",
    "    - name this table df_merged\n",
    "    - explicitly explain why you chose the particular merging method that you did\n",
    "    - explain your choice of joining key\n",
    "    - Investigate the shape df_merged. Explain what you find"
   ]
  },
  {
   "cell_type": "code",
   "execution_count": null,
   "metadata": {},
   "outputs": [],
   "source": [
    "# merge datasets\n"
   ]
  },
  {
   "cell_type": "code",
   "execution_count": null,
   "metadata": {},
   "outputs": [],
   "source": [
    "# explore the merged dataset\n"
   ]
  },
  {
   "cell_type": "markdown",
   "metadata": {},
   "source": [
    "- write out the mater file into a .csv document named \"master_file_alzhimers_2020.csv\" so that you can forward this onto the clinician.\n",
    "\n",
    "_(hint: look back over reading and writing in file types from session 2)_"
   ]
  },
  {
   "cell_type": "code",
   "execution_count": null,
   "metadata": {},
   "outputs": [],
   "source": [
    "# write out into .csv file\n"
   ]
  },
  {
   "cell_type": "markdown",
   "metadata": {},
   "source": [
    "______________\n",
    "### Missing Data\n",
    "_______________\n",
    "\n",
    "**Deal with your missing values**\n",
    "\n",
    "- For all columns containing null values, deal with them in the way you deem most sensible.\n",
    "\n",
    "_Hint: The most \"sensible\" may be different for different columns depending on things such as; the data type (e.g. is it a continuous variable for which an average can be calculated and used to infill), the number of missing values, any additional contextual information and so forth. Don't be afraid to work through each column step by step and create new table versions (by assigning a new variable name) as you go_\n",
    "\n",
    "\n",
    "- Assign your new table with no nulls to a new object named df_nonulls\n",
    "\n",
    "\n",
    "- Explain your reasons behind why you chose to deal with them in the way you did"
   ]
  },
  {
   "cell_type": "code",
   "execution_count": 3,
   "metadata": {},
   "outputs": [],
   "source": [
    "# Deal with your missing values and assign to new object: df_no_null\n"
   ]
  },
  {
   "cell_type": "code",
   "execution_count": null,
   "metadata": {},
   "outputs": [],
   "source": [
    "# Explain your reasoning\n"
   ]
  },
  {
   "cell_type": "markdown",
   "metadata": {},
   "source": [
    "____________\n",
    "### Filtering and aggregating\n",
    "____________"
   ]
  },
  {
   "cell_type": "markdown",
   "metadata": {},
   "source": [
    "**Aggregate your data to explore in more detail**\n",
    "\n",
    "- Group your data by gender to explore the median diastolic blood pressure for each group.\n",
    "\n",
    "\n",
    "\n",
    "- Sum the total number of Alzheimer's Disease cases across males and females (1=Alzheimer's, 0= no Alzheimer’s) - how do the two genders differ?\n",
    "\n",
    "\n",
    "- How many non-Alzheimer’s participants (DIAGNOSIS=0) have subjective memory complaints (Subjective_Memory_Complaint=1)"
   ]
  },
  {
   "cell_type": "code",
   "execution_count": null,
   "metadata": {},
   "outputs": [],
   "source": [
    "# median of DPB groupd by gender\n"
   ]
  },
  {
   "cell_type": "code",
   "execution_count": null,
   "metadata": {},
   "outputs": [],
   "source": [
    "# sum of AD cases for males and sum of AD cases for females:\n"
   ]
  },
  {
   "cell_type": "code",
   "execution_count": null,
   "metadata": {},
   "outputs": [],
   "source": [
    "# number of diagnosis=0 which also have subjective memory complaints\n"
   ]
  },
  {
   "cell_type": "markdown",
   "metadata": {},
   "source": [
    "**Filter out datafields of interest**\n",
    "\n",
    "- Filter your df_nonulls table so that it contains only men who have been diagnosed with Alzheimer's Disease. Name this table male_cases\n",
    "\n",
    "\n",
    "- Filter your male_cases table so that it contains only those male cases who have no APOE4 risk gene (APOE4=0), and who have a diastolic blood pressure <80. Name this table low_gen_risk_male_cases\n",
    "    - Print the male_cases table into your notebook\n",
    "\n",
    "\n",
    "- Filter you df_nonulls table so that it contains all individuals that have been diagnosed with Alzheimer's Disease or have at least 1 APOE4 risk gene (note: an individual can have either none, 1 or 2 APOE4 risk gene alleles). Name this table elevated_genetic_AD_risk\n",
    "\n",
    "- Print elevated_genetic_AD_risk into your notebook.\n",
    "    - What is the total number of males and of females in the elevated risk group?\n",
    "    - What is the mean diastolic blood pressure in the elevated risk group?\n",
    "    - How does this differ from the mean diastolic blood pressure in the low_gen_risk_male_cases table?\n"
   ]
  },
  {
   "cell_type": "code",
   "execution_count": null,
   "metadata": {},
   "outputs": [],
   "source": [
    "# filter df_nulls to only men with AD - name male_cases\n"
   ]
  },
  {
   "cell_type": "code",
   "execution_count": null,
   "metadata": {},
   "outputs": [],
   "source": [
    "# filter male_cases to only those with no APOE4 and blood pressure < 80\n",
    "# name low_risk_male_cases\n",
    "# print to notebook\n"
   ]
  },
  {
   "cell_type": "code",
   "execution_count": null,
   "metadata": {},
   "outputs": [],
   "source": [
    "# filter df_nonulls to people with AD or at least 1 APOE4 risk gene\n",
    "# name elevated_genetic_AD_risk\n",
    "# print to notebook\n"
   ]
  },
  {
   "cell_type": "code",
   "execution_count": null,
   "metadata": {},
   "outputs": [],
   "source": [
    "# number of males and females in elevanted risk group =\n",
    "\n",
    "# mean diastolic blood pressure in elevated risk group =\n",
    "\n",
    "# how does this differ from mean dbp in low_gen_risk_male_cases?\n"
   ]
  },
  {
   "cell_type": "markdown",
   "metadata": {},
   "source": [
    "____________\n",
    "### Loops and Slicing\n",
    "____________"
   ]
  },
  {
   "cell_type": "markdown",
   "metadata": {},
   "source": [
    "- from your df_nonulls object, slice out height and weight from master_table as two seperate lists: `weight_kg`, and `height_cm`\n",
    "\n",
    "\n",
    "- below I have initiated an empty list for you called `height_m`. Within the same code chunk, use a loop to loop through each item within your `height_cm` list and divide each by 100 so that you obtain height values in meters\n",
    "- _hint: make use of the .append() function here)_\n",
    "    - check your values look sensible by viewing the first 10 items within height_m, using slicing and the relevant index numbers.\n",
    "\n",
    "\n",
    "- Next, initiate an empty list called \"bmi\". Use a loop to calculate bmi values based on values within your `weight_kg` and `height_m` lists. store in your \"bmi\" list.\n",
    "_note: bmi = weight_kg divided by the square of height_m._\n",
    "    - check your values look sensible by viewing items 10-20 within the bmi list, using slicing and the relevant index numbers.\n",
    "\n",
    "\n",
    "- add the bmi list as a column to your df_nonulls table \n",
    "- _hint: you can add a new column in the same way you would slice out an existing column_\n"
   ]
  },
  {
   "cell_type": "code",
   "execution_count": 19,
   "metadata": {},
   "outputs": [],
   "source": [
    "# slice out weight_kg and height_kg into two seperate lists\n",
    "weight_kg=rev_df['weight_kg']\n",
    "\n",
    "height_cm=rev_df['height_cm']"
   ]
  },
  {
   "cell_type": "code",
   "execution_count": 23,
   "metadata": {},
   "outputs": [
    {
     "data": {
      "text/plain": [
       "[1.587483495,\n",
       " 1.517919813,\n",
       " 1.5616498969999997,\n",
       " 1.586207485,\n",
       " 1.473619794,\n",
       " 1.5461067739999999,\n",
       " 1.5780414219999996,\n",
       " 1.530454378,\n",
       " 1.6087795280000001,\n",
       " 1.487712503]"
      ]
     },
     "execution_count": 23,
     "metadata": {},
     "output_type": "execute_result"
    }
   ],
   "source": [
    "# use a loop to convert height cm values to meters and store these new values in height_m\n",
    "height_m=[]\n",
    "\n",
    "for i in range(len(height_cm)):\n",
    "    height_m.append(height_cm[i]/100)\n",
    "\n",
    "height_m[0:10]"
   ]
  },
  {
   "cell_type": "code",
   "execution_count": 27,
   "metadata": {},
   "outputs": [
    {
     "data": {
      "text/plain": [
       "[30.372134362807504,\n",
       " 28.186687055597027,\n",
       " 27.469472953799244,\n",
       " 28.373106767672606,\n",
       " 31.091292706696365,\n",
       " 26.40364324053187,\n",
       " 28.52487459696972,\n",
       " 31.069621345312775,\n",
       " 30.289576993558043,\n",
       " 30.850552227291463,\n",
       " 30.186228734824336]"
      ]
     },
     "execution_count": 27,
     "metadata": {},
     "output_type": "execute_result"
    }
   ],
   "source": [
    "# create bmi values by looping through weight_kg and height_m and applying the correct formula\n",
    "# store values in new list called bmi\n",
    "\n",
    "bmi=[]\n",
    "\n",
    "for i in range(len(weight_kg)):\n",
    "    bmi.append(weight_kg[i]/(height_m[i]**2))\n",
    "\n",
    "\n",
    "bmi[9:20]"
   ]
  },
  {
   "cell_type": "code",
   "execution_count": 29,
   "metadata": {},
   "outputs": [],
   "source": [
    "# add bmi list as a column to df_nonulls\n",
    "rev_df['bmi']=bmi\n",
    "\n",
    "\n",
    "# print the head of the table to check the bmi column has been added\n"
   ]
  },
  {
   "cell_type": "markdown",
   "metadata": {},
   "source": [
    "____________\n",
    "### Statistics and Data Visualisation\n",
    "____________"
   ]
  },
  {
   "cell_type": "markdown",
   "metadata": {},
   "source": [
    "- Check the distribution of your height and weight variables - do they meet the assumptions of normality?\n",
    "\n",
    "\n",
    "- group your bmi variable by gender and use density plots to visualise whether;\n",
    "    - male bmi is normally distributed\n",
    "    - female bmi is normally distributed\n",
    "- does this align with what we see when we run a shapiro-wilks test?\n"
   ]
  },
  {
   "cell_type": "code",
   "execution_count": 32,
   "metadata": {},
   "outputs": [],
   "source": [
    "# confirm distribution of height\n",
    "\n",
    "\n",
    "# confirm distribution of weight\n"
   ]
  },
  {
   "cell_type": "code",
   "execution_count": 33,
   "metadata": {},
   "outputs": [],
   "source": [
    "# confirm distribution of male bmi\n",
    "\n",
    "\n",
    "# confirm distribution of female bmi\n"
   ]
  },
  {
   "cell_type": "code",
   "execution_count": null,
   "metadata": {},
   "outputs": [],
   "source": [
    "# shapiro-wilks test for male/female bmi\n"
   ]
  },
  {
   "attachments": {},
   "cell_type": "markdown",
   "metadata": {},
   "source": [
    "- Create a plot which demonstrates the APOE4_status against Alzheimer's Disease diagnosis.!\n",
    "    - Explain your reasons for chosing the particular charting component that you did.\n",
    "    - Explain what you see\n",
    "    - Save this chart as a .png file and name it \"APOE_aginst_Alzheimers\"\n",
    "    \n",
    "\n",
    "- Run a statistical test to see whether the statistics align with the conclusions you made based on your visualisation.\n"
   ]
  },
  {
   "cell_type": "code",
   "execution_count": null,
   "metadata": {},
   "outputs": [],
   "source": [
    "# APOE chart against Alzheimer's:\n",
    "\n",
    "\n",
    "\n",
    "# reasons for chosing and explanation the output:\n"
   ]
  },
  {
   "cell_type": "code",
   "execution_count": 34,
   "metadata": {},
   "outputs": [],
   "source": [
    "# save chart as .png file:\n",
    "\n"
   ]
  },
  {
   "cell_type": "markdown",
   "metadata": {},
   "source": [
    "- Add another parameter to your chart which shows the differences between males and females for each APOE status against Alzheimer's Disease.\n",
    "    - Explain what you see\n",
    "    - Save this chart as a PDF and name it \"APOE_aginst_Alzheimers_Split_by_Gender\"\n"
   ]
  },
  {
   "cell_type": "code",
   "execution_count": null,
   "metadata": {},
   "outputs": [],
   "source": [
    "# addition of parameters\n",
    "\n",
    "\n",
    "# explanation of output"
   ]
  },
  {
   "cell_type": "code",
   "execution_count": null,
   "metadata": {},
   "outputs": [],
   "source": [
    "# save chart as .PDF file\n",
    "\n"
   ]
  },
  {
   "attachments": {},
   "cell_type": "markdown",
   "metadata": {},
   "source": [
    "- Create another plot of your choice which plots variables against each other to provide visually meanignful information\n",
    "    - Explain why you chose the plot that you did and what you see from the visualisation."
   ]
  },
  {
   "cell_type": "code",
   "execution_count": null,
   "metadata": {},
   "outputs": [],
   "source": [
    "# 2nd chart \n",
    "\n",
    "\n",
    "# explanation of choice\n",
    "\n"
   ]
  },
  {
   "attachments": {},
   "cell_type": "markdown",
   "metadata": {},
   "source": [
    "- Build a matrix together with gradient colours which demonstrates the relationship between education level, subjective memory complain, cardiovascular history, blood pressure, APOE4 status, Alzheimer's Disease diagnosis, abd latest age.\n",
    "    - What shows the greatest positive relationship with Alzheimer's Disease status?\n",
    "    - Which variable is the most negatively correlated with education level?"
   ]
  },
  {
   "cell_type": "code",
   "execution_count": null,
   "metadata": {},
   "outputs": [],
   "source": [
    "# correlation matrix with heatmap:\n",
    "\n",
    "\n",
    "# greatest positive relationship =\n",
    "\n",
    "# variable most negatively correlated with education level =\n"
   ]
  },
  {
   "cell_type": "markdown",
   "metadata": {},
   "source": [
    "____________\n",
    "### Machine Learning\n",
    "____________"
   ]
  },
  {
   "attachments": {},
   "cell_type": "markdown",
   "metadata": {},
   "source": [
    "**Use machine learning to predict who will be diagnosed with Azheimer's Disease**\n",
    "\n",
    "\n",
    "- Filter out columns from within your df_nonulls table that you think will be appropriate for taking forward for your machine learning model.\n",
    "    - Filter out your feature variables and assign it to variable name X\n",
    "    - Filter out your response variable and assign it the name y\n",
    "    - Print the head of each of your variables into the notebook\n",
    "    - Explain your reasons for chosing these columns\n",
    "    - Convert all selected variables into neccesary formats if required\n",
    "    \n",
    "    \n",
    "    \n",
    "_n.b. each column provides the following information:_\n",
    "\n",
    "\n",
    "- **Record_ID** = the unique identifier provided for each individual participant\n",
    "- **Patient_ID** = a second unique identifier which is mapped to the record_ID for each participant\n",
    "- **SITEID** = the numerical ID which corresponds to the study centre in which measures were collected for the participant\n",
    "- **GENDER** = whether male or female\n",
    "- **EDUCATION_LEVEL** = a numerical value which corresponds to the participants level of education (the higher the number, the higher their education level)\n",
    "- **USERDATE** = The date at which self reported user information was recorded\n",
    "- **EXAMDATE** = The date at which measurable items were recorded (e.g. blood pressure, APOE genotype information etc).\n",
    "- **Patient_Converted_Or_Reverted** = whether the patient, since first visit has converted from healthy status to cognitively impaired, or reverted from a cognitive decline status back to less severe or healthy state (0 = no change, 1=converted, 2=reverted)\n",
    "- **Conversion_type** = numerical code representing the type of conversion (0=no change, 1=healthy cognition to mild cognitive impairement, 2= mild cognitive impairement to Alzheimer's Disease, 3=healthy cognition to Alzheimer's disease)\n",
    "- **Reversal_type** = numerical code representing the type of reversal (0=no change, 1=Alzheimer's to mild cognitive impairement, 2=mild cognitive impairement to healthy cognition, 3= Alzheimer's disease to healthy cognition)\n",
    "- **History_Depression** = whether the participant has a self-reported history of depression (0=none 1=yes)\n",
    "- **Subjective_Memory_Complaint** = whether participants have self reported issues with their memory (0=none 1=yes)\n",
    "- **Probable_AD** = whether a participant is suspected to have Alzheimer's Disease based on their clinical profile (0=not probable AD, 1= probable AD (Those with a formal diagnosis of Alzheimer's will also be labelled as 1 in this column by default)\n",
    "- **Other_dementia** = whether participants have been diagnosed with any other dementia which is not Alzheimer's Disease (0=no other dementia, 1=another diagnosed dementia. Note - those with other dementia diagnoses other than the dementia of interest (Alzheimers) are often removed from predictive modelling studies as they contribute to noise.\n",
    "- **APOE4_Status** = whether the participant carries 1 or 2 APOE4 risk gene alleles (0=not a carrier, 1=carrier of 1 risk allele, 2=carrier of 2 risk alleles)\n",
    "- **Cardiovascular_History** = whether the participant has a history of - - **Diastolic_BloodPressure_mmHG** = Blood pressure measurement\n",
    "- **DIAGNOSIS_Alzheimers_Disease** = Whether the paricipant has a formal diagnosis of Alzheimer's Disease or not (0=no alzheimers, 1 = alzheimers)\n",
    "- **PTGENDER** = provides the same information as GENDER but in numerical form (1=male, 2=female)\n",
    "- **Baseline_Age** = the age participants were at first recruitement / baseline\n",
    "- **MNTH_DIF_BETWEEN_EXAM1and2** = The total months between participants baseline exam and current exam\n",
    "- **YEARDIF_BETWEEN_EXAM1and2** = The total years between participants baseline exam and current exam\n",
    "- **LATEST_AGE** = The age of each participant as at the current exam period."
   ]
  },
  {
   "cell_type": "code",
   "execution_count": null,
   "metadata": {},
   "outputs": [],
   "source": [
    "# filtering out X variables\n",
    "\n",
    "\n",
    "# filtering out y\n",
    "\n",
    "\n",
    "# printing out variables into notebook:\n",
    "\n",
    "\n",
    "# reasons = "
   ]
  },
  {
   "cell_type": "code",
   "execution_count": null,
   "metadata": {},
   "outputs": [],
   "source": [
    "# any additional transformations\n",
    "\n"
   ]
  },
  {
   "attachments": {},
   "cell_type": "markdown",
   "metadata": {},
   "source": [
    "- Select two different machine learning models and use these to train the data and predict the outcome of Alzheimer's Disease (_**note**: for the assignment you will only be required to showcase, one, but it's useful to have more than one in your back pocket)_.\n",
    "    - Remember to investigate not only whether the features predict the outcome, but also which features are the most important within the model, how confident the model probability is etc (think back to your third practical!)\n",
    "    - Explain your reasons for chosing each of the models\n",
    "    - How do the outcomes between the models differ (if at all)?"
   ]
  },
  {
   "cell_type": "code",
   "execution_count": null,
   "metadata": {},
   "outputs": [],
   "source": [
    "# machine learning model 1\n",
    "\n",
    "\n",
    "# reasons for choosing =\n"
   ]
  },
  {
   "cell_type": "code",
   "execution_count": null,
   "metadata": {},
   "outputs": [],
   "source": [
    "# machine learning model 2\n",
    "\n",
    "\n",
    "# reasons for choosing ="
   ]
  },
  {
   "cell_type": "code",
   "execution_count": null,
   "metadata": {},
   "outputs": [],
   "source": [
    "# compare the two models and explain:\n",
    "\n"
   ]
  },
  {
   "cell_type": "markdown",
   "metadata": {},
   "source": [
    "____________\n",
    "# Extras 😍\n",
    "____________"
   ]
  },
  {
   "cell_type": "markdown",
   "metadata": {},
   "source": [
    "## Markdown"
   ]
  },
  {
   "cell_type": "markdown",
   "metadata": {},
   "source": [
    "- create a new codechunk below, and toggle the cell type from \"code\" to \"Markdown\"\n",
    "\n",
    "<br>\n",
    "\n",
    "- create a heading called \"My Markdown\", which looks like this:\n",
    "## My Markdown\n",
    "\n",
    "<br>\n",
    "\n",
    "- Now a _italicized_ subheding called, \"exploring the limits\", which looks like this:\n",
    "#### _exploring the limits_\n",
    "\n",
    "\n",
    "<br>\n",
    "\n",
    "- create a bullet point list of 3 things you have enjoyed about the course\n",
    "    - for each of these, generare 1 sub bullet point which confirms why you enjoyed this aspect of the course\n",
    "    \n",
    "\n",
    "<br> \n",
    "\n",
    "- In **bold** confirm 2 things you think could be improved for the course.\n",
    "\n",
    "\n",
    "<br>\n",
    "\n",
    "- With a ~strike-through~ confirm one thing you would like for us to have covered but we didn't.\n",
    "\n",
    "<br>\n",
    "\n",
    "- produce a `code chunk` within the markdown cell.\n",
    "\n",
    "<br>\n",
    "\n",
    "\n",
    "- import \"joke_image.png\" image in folder and add the caption \"I love to joke with python memes\"."
   ]
  },
  {
   "cell_type": "code",
   "execution_count": null,
   "metadata": {},
   "outputs": [],
   "source": [
    "\n",
    "\n",
    "\n"
   ]
  },
  {
   "cell_type": "markdown",
   "metadata": {},
   "source": [
    "____________\n",
    "## Exporting to HMTL"
   ]
  },
  {
   "cell_type": "markdown",
   "metadata": {},
   "source": [
    "- Export your .ipynb file to a .html file and save on your desktop\n",
    "\n",
    "\n"
   ]
  },
  {
   "cell_type": "markdown",
   "metadata": {},
   "source": [
    "\n",
    "____________________\n",
    "#### save everything, zip it all into a file and send my way for feedback `(jodie.lord@kcl.ac.uk)` 🙌\n",
    "____________________"
   ]
  }
 ],
 "metadata": {
  "kernelspec": {
   "display_name": "Python 3",
   "language": "python",
   "name": "python3"
  },
  "language_info": {
   "codemirror_mode": {
    "name": "ipython",
    "version": 3
   },
   "file_extension": ".py",
   "mimetype": "text/x-python",
   "name": "python",
   "nbconvert_exporter": "python",
   "pygments_lexer": "ipython3",
   "version": "3.7.1"
  }
 },
 "nbformat": 4,
 "nbformat_minor": 2
}
