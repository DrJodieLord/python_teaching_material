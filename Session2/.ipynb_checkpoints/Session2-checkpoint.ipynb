{
 "cells": [
  {
   "cell_type": "markdown",
   "metadata": {},
   "source": [
    "# 5PAHPPSY: Big Data Analytics in Python: Session 2\n",
    "\n",
    "___\n",
    "\n",
    "_Jodie Lord<br/>\n",
    "Department of Basic and Clinical Neuroscience<br/>\n",
    "Institute of Psychiatry, Psychology and Neuroscience<br/>\n",
    "King's College London<br/>\n",
    "jodie.lord@kcl.ac.uk_\n",
    "___"
   ]
  },
  {
   "cell_type": "markdown",
   "metadata": {},
   "source": [
    "## 😍 Today's Learning Objectives:\n",
    "<br/>\n",
    "\n",
    "1. Grasp the concept of \"loops\" and how these can be used to iterate through data.\n",
    "\n",
    "\n",
    "2. Understand with what \"python libraries\" are, and explore a key data science library: pandas 🐼 \n",
    "\n",
    "\n",
    "3. Become familiar with some key techniques for working with data e.g.: \n",
    "    - Merging datasets\n",
    "    - Working with missing data\n",
    "    - Filtering and indexing\n",
    "    - Aggregating data\n",
    " "
   ]
  },
  {
   "cell_type": "markdown",
   "metadata": {},
   "source": [
    "### ✋ BUT FIRST...\n",
    "**Lets recap some of the content we learned last week**"
   ]
  },
  {
   "cell_type": "markdown",
   "metadata": {},
   "source": [
    "## <font color=green>⌨ Recap Exercises </font>"
   ]
  },
  {
   "cell_type": "code",
   "execution_count": 2,
   "metadata": {},
   "outputs": [],
   "source": [
    "## Create a new integer variable and assign it a sensible name\n",
    "\n",
    "\n",
    "# Print this value into the notebook\n"
   ]
  },
  {
   "cell_type": "code",
   "execution_count": 3,
   "metadata": {},
   "outputs": [],
   "source": [
    "# Create a list containing 4 cities: London, Manchester, Brighton, Bristol. Name this list cities\n",
    "\n",
    "\n",
    "# Slice out Manchester and Brighton from this list and print into the notebook\n",
    "\n",
    "\n",
    "#Replace the Brighton list element with \"Bright and Hove\" \n",
    "\n",
    "\n",
    "#Print the new list into the notebook\n"
   ]
  },
  {
   "cell_type": "code",
   "execution_count": 4,
   "metadata": {},
   "outputs": [],
   "source": [
    "# Using curly brackets, create a dict which paires together the following names with their values:\n",
    "## Harry:8 , Niall:5 , Liam:4 , Zayne:9 , Louis:6\n",
    "\n",
    "\n",
    "# Replace the value of Zayne to 0 and print into the console:\n"
   ]
  },
  {
   "cell_type": "markdown",
   "metadata": {},
   "source": [
    "### (1) Loops 🔃"
   ]
  },
  {
   "cell_type": "markdown",
   "metadata": {},
   "source": [
    "- Python (like other coding languages), allows users to \"loop\" over list sequences. \n",
    "- Two main types of loops available:\n",
    "    - `while` loops\n",
    "    - `for` loops\n",
    "- `while` loops essentially say, \"while this thing = true, do this:\" _e.g. while x <10, print x_\n",
    "- **`for`** loops on the other hand say, \"for everything is this, do this\" _e.g. for all_variables in x, print x_\n",
    "- Both loop structures have their place in data analytics, but for today, we will focus on **`for`** loops."
   ]
  },
  {
   "cell_type": "markdown",
   "metadata": {},
   "source": [
    "**For Loops**\n",
    "\n",
    "- For loops allow you to iterate over all elements within a specified list sequence. For example 👇"
   ]
  },
  {
   "cell_type": "code",
   "execution_count": 2,
   "metadata": {},
   "outputs": [
    {
     "name": "stdout",
     "output_type": "stream",
     "text": [
      "2\n",
      "4\n",
      "6\n",
      "8\n",
      "10\n",
      "12\n",
      "14\n",
      "16\n"
     ]
    }
   ],
   "source": [
    "#Initiating a list variable\n",
    "my_list=[2,4,6,8,10,12,14,16]\n",
    "\n",
    "#Iterating over the items within that list:\n",
    "for variables in my_list:\n",
    "    print(variables)"
   ]
  },
  {
   "cell_type": "markdown",
   "metadata": {},
   "source": [
    "- This then allows you to **_do_** things to each item within your list. For example 👇"
   ]
  },
  {
   "cell_type": "code",
   "execution_count": 3,
   "metadata": {},
   "outputs": [
    {
     "name": "stdout",
     "output_type": "stream",
     "text": [
      "4\n",
      "16\n",
      "36\n",
      "64\n",
      "100\n",
      "144\n",
      "196\n",
      "256\n"
     ]
    }
   ],
   "source": [
    "#Multiplying each variable in my list by the power of 2:\n",
    "for variables in my_list:\n",
    "    print(variables**2)"
   ]
  },
  {
   "cell_type": "markdown",
   "metadata": {},
   "source": [
    "- The above hasn't actually changed any of the elements of the list. If you `print(my_list)` you will see the values remain the same. However, you can also change the values of the list if you wish to do so also 👇"
   ]
  },
  {
   "cell_type": "code",
   "execution_count": 4,
   "metadata": {},
   "outputs": [
    {
     "name": "stdout",
     "output_type": "stream",
     "text": [
      "[2, 4, 6, 8, 10, 12, 14, 16]\n"
     ]
    }
   ],
   "source": [
    "#Storing each variable as multiples of 2:\n",
    "for variables in my_list:\n",
    "    variables=variables*2\n",
    "    \n",
    "print(my_list)"
   ]
  },
  {
   "cell_type": "markdown",
   "metadata": {},
   "source": [
    "- the `variables` statement within this `for` loop is known as our _'iterator'_. This just provides a reference key for python to refer to in the iteration. It can be called anything we like. The standard convention is **`i`** e.g 👇"
   ]
  },
  {
   "cell_type": "code",
   "execution_count": 5,
   "metadata": {},
   "outputs": [
    {
     "name": "stdout",
     "output_type": "stream",
     "text": [
      "2\n",
      "4\n",
      "6\n",
      "8\n",
      "10\n",
      "12\n",
      "14\n",
      "16\n"
     ]
    }
   ],
   "source": [
    "#This does exactly the same thing as the first print loop we did. We have simply changed 'variables' to 'i'\n",
    "for i in my_list:\n",
    "    print(i)"
   ]
  },
  {
   "cell_type": "code",
   "execution_count": 6,
   "metadata": {},
   "outputs": [
    {
     "name": "stdout",
     "output_type": "stream",
     "text": [
      "2\n",
      "4\n",
      "6\n",
      "8\n",
      "10\n",
      "12\n",
      "14\n",
      "16\n"
     ]
    }
   ],
   "source": [
    "#We can name this iterator whatever we want though, as long as we keep it consistent within our for loop. e.g:\n",
    "for jodies_the_best in my_list:\n",
    "    print(jodies_the_best)"
   ]
  },
  {
   "cell_type": "markdown",
   "metadata": {},
   "source": [
    "- Loops can also be useful for applying conditional changes to your data. e.g. 👇"
   ]
  },
  {
   "cell_type": "code",
   "execution_count": 7,
   "metadata": {},
   "outputs": [
    {
     "name": "stdout",
     "output_type": "stream",
     "text": [
      "2\n",
      "4\n",
      "14\n"
     ]
    }
   ],
   "source": [
    "#Inititating new numeric list:\n",
    "my_list2=[2,4,10,11,12,12.5,14,6]\n",
    "\n",
    "#Performing a conditional for loop\n",
    "for i in range(0,8):\n",
    "        if my_list[i] == my_list2[i]:\n",
    "            print(my_list[i])"
   ]
  },
  {
   "cell_type": "code",
   "execution_count": 8,
   "metadata": {},
   "outputs": [
    {
     "name": "stdout",
     "output_type": "stream",
     "text": [
      "[2, 4, 6, 8, 10, 12, 14, 16]\n",
      "[2, 4, 10, 11, 12, 12.5, 14, 6]\n",
      "[4, 3, 2, 0.5]\n"
     ]
    }
   ],
   "source": [
    "#Another example of a more complex conditional for loop:\n",
    "\n",
    "#Inititating a new empty list:\n",
    "my_outputs=[]\n",
    "\n",
    "#Performing conditional for loop\n",
    "for i in range(len(my_list)):\n",
    "        if my_list[i] < my_list2[i]:\n",
    "            my_outputs.append(my_list2[i]-my_list[i])\n",
    "\n",
    "print(my_list)\n",
    "print(my_list2)\n",
    "print(my_outputs)"
   ]
  },
  {
   "cell_type": "code",
   "execution_count": 9,
   "metadata": {},
   "outputs": [
    {
     "name": "stdout",
     "output_type": "stream",
     "text": [
      "[2, 4, 6, 8, 10, 12, 14, 16]\n",
      "[2, 4, 10, 11, 12, 12.5, 14, 6]\n",
      "[2, 4, 4, 3, 2, 0.5, 14, 16]\n"
     ]
    }
   ],
   "source": [
    "##We can also add in an \"else statement:\"\n",
    "\n",
    "#Inititating a new empty list:\n",
    "outputs_with_else=[]\n",
    "\n",
    "#Performing conditional for loop\n",
    "for i in range(len(my_list)):\n",
    "        if my_list[i] < my_list2[i]:\n",
    "            outputs_with_else.append(my_list2[i]-my_list[i])\n",
    "        else:\n",
    "            outputs_with_else.append(my_list[i])\n",
    "\n",
    "print(my_list)\n",
    "print(my_list2)\n",
    "print(outputs_with_else)\n"
   ]
  },
  {
   "cell_type": "markdown",
   "metadata": {},
   "source": [
    "## <font color=green>⌨ Task </font>\n",
    "- Using the `my_list` and `my_list2` lists created above. Run a for loop to:\n",
    "    - print the values of `my_list` to the power of 3 **IF** they **DO NOT EQUAL**(!=) the corresponding values in `my_list2`\n",
    "    - else, print just print the value as is in `my_list` 👇"
   ]
  },
  {
   "cell_type": "code",
   "execution_count": 10,
   "metadata": {},
   "outputs": [
    {
     "name": "stdout",
     "output_type": "stream",
     "text": [
      "2\n",
      "4\n",
      "216\n",
      "512\n",
      "1000\n",
      "1728\n",
      "14\n",
      "4096\n"
     ]
    }
   ],
   "source": [
    "#Create for loop - I've started the first line for you below\n",
    "\"\"\"note: this will take a similar structure to the if/else loop above. If unsure, copy and paste the above into \n",
    "this cell and work through it one line at a time, replacing what you need to get the output for this task\"\"\"\n",
    "\n",
    "for i in range(len(my_list)):\n",
    "\n",
    "    "
   ]
  },
  {
   "cell_type": "markdown",
   "metadata": {},
   "source": [
    "🔊 **Loops can be daunting at first, but don't be afraid of them! They can be an incredibly useful tool for performing iterative functions over large arrays of data. They can be used on any \"sequential\" data - including columns within data tables, as we shall see later.**"
   ]
  },
  {
   "cell_type": "markdown",
   "metadata": {},
   "source": [
    "### (2) Python Libraries 📚"
   ]
  },
  {
   "cell_type": "markdown",
   "metadata": {},
   "source": [
    "- Python has numerous \"libraries\" which allow you to perform specific tasks.\n",
    "- Some libraries come readily installed within Python, you just have to \"import\" them when you need them. \n",
    "- Other libraries have to be installed from external packages.\n",
    "- Each \"library\" contains a suit of functions which allow you to perform specialist tasks.\n",
    "- Examples of common python libraries used by data scientists and statisticians within python are:\n",
    "    - **pandas** 🐼 - particularly useful for working with and manipulating data tables and times series data.\n",
    "    - **NumPy** 🔢 - useful when working with large, multidimensional arrays and comes with lots of powerful. arithmatic functions - when dealing with numbers - you'll likely use NumPy!\n",
    "    - **MatPlotLib** 📊 and **seaborn** 🐬 - for all things charting.\n",
    "    - **skikit-learn** 🎿 - for machine learning functions.\n",
    "- New libraries are being developed all the time so it is always worth searching the web for something specific which may meet your needs.\n",
    "- Each library will come with it's own set of documentation. For the standard libraries such as those mentioned above, these are extremely comprehensive and useful, so be sure to explore them on the web."
   ]
  },
  {
   "cell_type": "markdown",
   "metadata": {},
   "source": [
    "**Loading Libraries**\n",
    "- Libraries are typically imported using the following syntax:\n",
    "     - import `[library name]` as `[short, callable name]`\n",
    "\n",
    "- For example, the standard \"short callable name\" for NumPy 🔢 is np. Thus, the convensional syntax for importing NumPy is:\n",
    "`import numpy as np`\n",
    "\n",
    "- This then loads all of the functions available as part of the NumPy 🔢 library into your working environment, ready for you to utilize."
   ]
  },
  {
   "cell_type": "markdown",
   "metadata": {},
   "source": [
    "## <font color=green>💬 Discussion </font>\n",
    "...This all feels a little faffy doesn't it?! Why do you think Python doesn't just have all its libraries loaded up and ready to use whenever you want? 🤔"
   ]
  },
  {
   "cell_type": "markdown",
   "metadata": {},
   "source": [
    "## <font color=green>⌨ Task </font>\n",
    "- Use your new best friend google to look up what the standard abbreviated name is for importing pandas 🐼 (e.g. what np is to numpy)\n",
    "- Import the pandas 🐼 library into your working environment using this standard abbreviation"
   ]
  },
  {
   "cell_type": "code",
   "execution_count": null,
   "metadata": {},
   "outputs": [],
   "source": [
    "#Import pandas into your session\n"
   ]
  },
  {
   "cell_type": "markdown",
   "metadata": {},
   "source": [
    "### (3) Working with data - Introducing pandas 🐼\n",
    "_documentation: https://pandas.pydata.org/pandas-docs/stable/_\n",
    "\n",
    "- Now that we've imported the pandas library, we have access to all of its functionality 🙌\n",
    "\n",
    "- pandas 🐼 is particularly great for:\n",
    "    - Dealing with spreadsheet-style data – by creating ‘Dataframes’\n",
    "\n",
    "    - Selecting columns from datasets and apply functions to them "
   ]
  },
  {
   "cell_type": "markdown",
   "metadata": {},
   "source": [
    "**Loading and exploring datasets**\n",
    "\n",
    "👀 Lets use our pandas library to look at a dataset we have saved in our downloaded zip file: **brain_size_ppts.csv**\n",
    "\n",
    "_psssst._ You will need to ensure that your dataset is stored within the same \"directory\" (or \"folder\") as that which you are currently working within. You can check which directory you are currently working in by using the pwd command. If this is different from that which your dataset is stored in, you can either:\n",
    "+ Transfer your dataset into the directory returned when calling pwd\n",
    "+ Move to the directory in which the dataset is stored (by using the **_c_**hange **_d_**irectory command: cd '/path/to/directory')\n",
    "+ Add the path of the directory to the read_csv command when reading your csv into the notebook (\"/path/to/directory/filename.csv)\n",
    "\n",
    "🖐 Ask us for help if any of the above is unclear or if you find yourself struggling to read in your dataset.\n",
    "\n",
    "The below code assumes you are reading in the file from your current directory 👇"
   ]
  },
  {
   "cell_type": "code",
   "execution_count": null,
   "metadata": {},
   "outputs": [],
   "source": [
    "#Read in dataset:\n",
    "pd.read_csv(\"brain_size_ppts.csv\") #Note we are using our \"pd\" abbreviation to call on the library"
   ]
  },
  {
   "cell_type": "markdown",
   "metadata": {},
   "source": [
    "**Note:** You can import (and write out) all sorts of files using pandas, not just csv. e.g.:"
   ]
  },
  {
   "cell_type": "code",
   "execution_count": 12,
   "metadata": {},
   "outputs": [
    {
     "ename": "NameError",
     "evalue": "name 'Image' is not defined",
     "output_type": "error",
     "traceback": [
      "\u001b[0;31m---------------------------------------------------------------------------\u001b[0m",
      "\u001b[0;31mNameError\u001b[0m                                 Traceback (most recent call last)",
      "\u001b[0;32m<ipython-input-12-0ac9d337e6cb>\u001b[0m in \u001b[0;36m<module>\u001b[0;34m\u001b[0m\n\u001b[0;32m----> 1\u001b[0;31m \u001b[0mImage\u001b[0m\u001b[0;34m(\u001b[0m\u001b[0;34m'pandas_readtypes.png'\u001b[0m\u001b[0;34m)\u001b[0m\u001b[0;34m\u001b[0m\u001b[0;34m\u001b[0m\u001b[0m\n\u001b[0m",
      "\u001b[0;31mNameError\u001b[0m: name 'Image' is not defined"
     ]
    }
   ],
   "source": [
    "Image('pandas_readtypes.png')"
   ]
  },
  {
   "cell_type": "markdown",
   "metadata": {},
   "source": [
    "Now lets store this dataframe as a variable... How do we do that?! 🤔"
   ]
  },
  {
   "cell_type": "code",
   "execution_count": 13,
   "metadata": {},
   "outputs": [],
   "source": [
    "#Store dataframe as variable called df:"
   ]
  },
  {
   "cell_type": "markdown",
   "metadata": {},
   "source": [
    "+ You can now view your new dataframe by typing the variable name.\n",
    "\n",
    "\n",
    "+ You can view the first five rows by typing .head() after the variable name.\n",
    "\n",
    "\n",
    "+ You can view the last five rows by typing .tail() after the variable name.\n",
    "\n",
    "\n",
    "+ Much like with our lists - you can slice out sections of your dataframe by telling python which rows you want to slice inside square brackets [] (e.g. df[22:25]). See: https://pandas.pydata.org/pandas-docs/stable/user_guide/indexing.html)"
   ]
  },
  {
   "cell_type": "markdown",
   "metadata": {},
   "source": [
    "## <font color=green>⌨ Tasks </font>\n",
    "- follow the instructions within the comments below to explore your dataset:"
   ]
  },
  {
   "cell_type": "code",
   "execution_count": 14,
   "metadata": {},
   "outputs": [],
   "source": [
    "# View your new dataframe by typing the variable name:\n"
   ]
  },
  {
   "cell_type": "code",
   "execution_count": 15,
   "metadata": {},
   "outputs": [],
   "source": [
    "# View the first five rows of your dataframe by typing .head() after the variable name:\n"
   ]
  },
  {
   "cell_type": "code",
   "execution_count": 16,
   "metadata": {},
   "outputs": [],
   "source": [
    "# View the last five rows by typing .tail() after the variable name:\n"
   ]
  },
  {
   "cell_type": "code",
   "execution_count": 17,
   "metadata": {},
   "outputs": [],
   "source": [
    "# Experiment with slicing e.g. df[:30] vs. vs df[30::2] df[30::-1]\n"
   ]
  },
  {
   "cell_type": "markdown",
   "metadata": {},
   "source": [
    "## <font color=green>💬 Discussion </font>\n",
    "* Does anybody notice anything odd about this dataframe?\n",
    "* Can you tell me which of the columns are strings, floats, ints?\n",
    "* What is NaN?! 🤨"
   ]
  },
  {
   "cell_type": "markdown",
   "metadata": {},
   "source": [
    "## <font color=green>⌨ Task </font>\n",
    "- Use the code below to explore the dataset in greater depth:"
   ]
  },
  {
   "cell_type": "markdown",
   "metadata": {},
   "source": [
    "1. How many people are in the dataset? (i.e. how many rows are there?) 👇"
   ]
  },
  {
   "cell_type": "code",
   "execution_count": 18,
   "metadata": {},
   "outputs": [
    {
     "ename": "NameError",
     "evalue": "name 'df' is not defined",
     "output_type": "error",
     "traceback": [
      "\u001b[0;31m---------------------------------------------------------------------------\u001b[0m",
      "\u001b[0;31mNameError\u001b[0m                                 Traceback (most recent call last)",
      "\u001b[0;32m<ipython-input-18-8c712049f449>\u001b[0m in \u001b[0;36m<module>\u001b[0;34m\u001b[0m\n\u001b[1;32m      1\u001b[0m \u001b[0;31m#confirming rows using the pandas len function:\u001b[0m\u001b[0;34m\u001b[0m\u001b[0;34m\u001b[0m\u001b[0;34m\u001b[0m\u001b[0m\n\u001b[0;32m----> 2\u001b[0;31m \u001b[0mlen\u001b[0m\u001b[0;34m(\u001b[0m\u001b[0mdf\u001b[0m\u001b[0;34m)\u001b[0m\u001b[0;34m\u001b[0m\u001b[0;34m\u001b[0m\u001b[0m\n\u001b[0m",
      "\u001b[0;31mNameError\u001b[0m: name 'df' is not defined"
     ]
    }
   ],
   "source": [
    "#confirming rows using the pandas len function:\n",
    "len(df)"
   ]
  },
  {
   "cell_type": "markdown",
   "metadata": {},
   "source": [
    "2. How many variables are there? (i.e. how many columns are there?) 👇"
   ]
  },
  {
   "cell_type": "code",
   "execution_count": null,
   "metadata": {},
   "outputs": [],
   "source": [
    "#Confirming rows and columns using pandas .shape function. num1=rows, num2=cols.\n",
    "df.shape"
   ]
  },
  {
   "cell_type": "markdown",
   "metadata": {},
   "source": [
    "* How many missing values do we have? 👇"
   ]
  },
  {
   "cell_type": "code",
   "execution_count": 20,
   "metadata": {},
   "outputs": [],
   "source": [
    "# How many missing values do we have? Have a go at finding the answer online\n",
    "#see: https://stackoverflow.com/questions/26266362/how-to-count-the-nan-values-in-a-column-in-pandas-dataframe \n"
   ]
  },
  {
   "cell_type": "markdown",
   "metadata": {},
   "source": [
    "**Data Mining ⛏**\n",
    "\n",
    "Now we will do some actual analysis with real life data using Pandas. \n",
    "\n",
    "Lets;\n",
    "\n",
    "1) Clean and pre-process data (e.g. dealing with missing values)\n",
    "\n",
    "2) Compute basis stats\n",
    "\n",
    "3) Aggregate data"
   ]
  },
  {
   "cell_type": "markdown",
   "metadata": {},
   "source": [
    "## <font color=green>💬 Discussion </font>\n",
    "What can we do with missing values? 🤔"
   ]
  },
  {
   "cell_type": "code",
   "execution_count": 21,
   "metadata": {},
   "outputs": [],
   "source": [
    "#df.dropna()\n",
    "\n",
    "#df.fillna(99999)"
   ]
  },
  {
   "cell_type": "markdown",
   "metadata": {},
   "source": [
    "Before we make a decision, lets understand the data..."
   ]
  },
  {
   "cell_type": "markdown",
   "metadata": {},
   "source": [
    "## <font color=green>⌨ Task </font>\n",
    "* Run the code provided below to calculate the mean and other descriptive stats 👇"
   ]
  },
  {
   "cell_type": "code",
   "execution_count": null,
   "metadata": {},
   "outputs": [],
   "source": [
    "df. #hit tab after the period and a pop box should appear showing you options available to run"
   ]
  },
  {
   "cell_type": "code",
   "execution_count": null,
   "metadata": {},
   "outputs": [],
   "source": [
    "df.mean()"
   ]
  },
  {
   "cell_type": "code",
   "execution_count": null,
   "metadata": {},
   "outputs": [],
   "source": [
    "df.std()"
   ]
  },
  {
   "cell_type": "code",
   "execution_count": null,
   "metadata": {},
   "outputs": [],
   "source": [
    "df.median()"
   ]
  },
  {
   "cell_type": "code",
   "execution_count": null,
   "metadata": {},
   "outputs": [],
   "source": [
    "df.describe()"
   ]
  },
  {
   "cell_type": "markdown",
   "metadata": {},
   "source": [
    "## <font color=green>💬 Discussion </font>\n",
    "Given this information, if we are to fill NaNs, what should we fill them with?"
   ]
  },
  {
   "cell_type": "code",
   "execution_count": null,
   "metadata": {},
   "outputs": [],
   "source": [
    "df['Weight'].fillna(151.052632) #???"
   ]
  },
  {
   "cell_type": "markdown",
   "metadata": {},
   "source": [
    "Does anyone see a problem with this?..."
   ]
  },
  {
   "cell_type": "markdown",
   "metadata": {},
   "source": [
    "We can dig a little deeper  ⛏by aggregating by groups. e.g. 👇"
   ]
  },
  {
   "cell_type": "code",
   "execution_count": null,
   "metadata": {},
   "outputs": [],
   "source": [
    "df.groupby('Gender').mean()"
   ]
  },
  {
   "cell_type": "markdown",
   "metadata": {},
   "source": [
    "## <font color=green>⌨ Task </font>\n",
    "* Use the `.groupby()` function to confirm:\n",
    "    - The median Height of men vs women.\n",
    "    - The standard deviation of men's Height?\n",
    "    - The max and min Height values for women."
   ]
  },
  {
   "cell_type": "code",
   "execution_count": null,
   "metadata": {},
   "outputs": [],
   "source": [
    "#group by gender to find median height for men and women:\n"
   ]
  },
  {
   "cell_type": "code",
   "execution_count": null,
   "metadata": {},
   "outputs": [],
   "source": [
    "#group by or filter on gender to find standard deviation of height for men:\n"
   ]
  },
  {
   "cell_type": "code",
   "execution_count": null,
   "metadata": {},
   "outputs": [],
   "source": [
    "#Return min and max values for women heights:\n"
   ]
  },
  {
   "cell_type": "markdown",
   "metadata": {},
   "source": [
    "**You can also aggregate by two categorical variables**\n",
    "\n",
    "- If you plan to groupby more than 1 variable, you need to wrap the variable names in a list, which is denoted by square brackets `[]` e.g. `.groupby(['Height', 'Weight'])`"
   ]
  },
  {
   "cell_type": "markdown",
   "metadata": {},
   "source": [
    "## <font color=green>⌨ Tasks </font>\n",
    "- Use your new knowlegde of how to groupby more than one variable to:\n",
    "    - Aggregate data by 'Gender' and 'Diagnosed' and return the mean for the other variables within the dataframe.\n",
    "<br/>\n",
    "<br/>\n",
    "- Using the information returned:\n",
    "    - What is the mean Weight of Diagnosed Men?\n",
    "    - What is the mean Height of Undiagnosed Women?\n",
    "    - How many men are there in the group?\n",
    "    - How many women are there in the group?\n"
   ]
  },
  {
   "cell_type": "code",
   "execution_count": 23,
   "metadata": {},
   "outputs": [],
   "source": [
    "#Aggregate data by 'Gender' and 'Diagnosed' and return the mean for the other variables within the dataframe\n"
   ]
  },
  {
   "cell_type": "markdown",
   "metadata": {},
   "source": [
    "* Are there more Diagnosed people than Undiagnosed people in the group? 👇"
   ]
  },
  {
   "cell_type": "code",
   "execution_count": 25,
   "metadata": {},
   "outputs": [],
   "source": [
    "#Return counts for diagnosed and undiagnosed people:\n"
   ]
  },
  {
   "cell_type": "markdown",
   "metadata": {},
   "source": [
    "**Back to filling missing values**\n",
    "\n",
    "- Given your new knowledge, fill in the missing Height and Weight cells with an appropriate value.\n",
    "<br/>\n",
    "\n",
    "_**Note:** You can use inplace=True at the end of your code here to override your existing dataframe with your new values._"
   ]
  },
  {
   "cell_type": "code",
   "execution_count": null,
   "metadata": {},
   "outputs": [],
   "source": [
    "#Replace null values for weight:\n",
    "df['Weight'].fillna(df['Weight'].mean(), inplace=True)\n",
    "\n",
    "#Replace null values for height:"
   ]
  },
  {
   "cell_type": "code",
   "execution_count": null,
   "metadata": {},
   "outputs": [],
   "source": [
    "#Check that there is no longer any null values in df:\n"
   ]
  },
  {
   "cell_type": "markdown",
   "metadata": {},
   "source": [
    "## <font color=green>💬 Discussion </font>\n",
    "**Filtering/indexing**\n",
    "\n",
    "* Imagine you want to filter out all the men from the dataset. How might you do this? 🤔"
   ]
  },
  {
   "cell_type": "code",
   "execution_count": null,
   "metadata": {},
   "outputs": [],
   "source": [
    "x = df['Gender'] == 'Male'  #filter where gender == male?\n"
   ]
  },
  {
   "cell_type": "markdown",
   "metadata": {},
   "source": [
    "* What does x look like?"
   ]
  },
  {
   "cell_type": "markdown",
   "metadata": {},
   "source": [
    "🔑 Loc is a powerful tool which allows you to convert boolean series into actual data:"
   ]
  },
  {
   "cell_type": "code",
   "execution_count": null,
   "metadata": {},
   "outputs": [],
   "source": [
    "#Converting x into a filtered dataset - will return only those cells where boolean == True:\n",
    "\n",
    "df.loc[x]"
   ]
  },
  {
   "cell_type": "markdown",
   "metadata": {},
   "source": [
    "Alternatively, you can use 🔑loc to directly filter out the data you are interested in:"
   ]
  },
  {
   "cell_type": "code",
   "execution_count": null,
   "metadata": {},
   "outputs": [],
   "source": [
    "#Directly filtering df dataframe to only males\n",
    "df.loc[df['Gender'] == 'Male']"
   ]
  },
  {
   "cell_type": "code",
   "execution_count": null,
   "metadata": {},
   "outputs": [],
   "source": [
    "#The above code will print out your filtered results, but will not override the underlying df object (e.g. if you print(df) you will see all males and females still exist in the dataframe object)\n",
    "#To save the filtered content, it is advisible to save it as a new object e.g.:\n",
    "\n",
    "df_men=df.loc[df['Gender'] == 'Male']\n",
    "\n",
    "#Now you can call this new object and it will contain only your filtered results:\n",
    "df_men.head()"
   ]
  },
  {
   "cell_type": "markdown",
   "metadata": {},
   "source": [
    "## <font color=green>⌨ Tasks </font>\n",
    "* Use the code below to make a dataframe of only diagnosed men"
   ]
  },
  {
   "cell_type": "code",
   "execution_count": null,
   "metadata": {},
   "outputs": [],
   "source": [
    "### Create in steps using object assignment:\n",
    "#y = (df['Gender'] == 'Male') & (df['Diagnosed'] == 'Yes')\n",
    "#df_men_diagnosed=df.loc[y]\n",
    "\n",
    "\n",
    "#OR: In a single step using the below (can save time but also more room for mistakes e.g. misplaced brackets - beware)\n",
    "df_men_diagnosed=df.loc[(df['Gender'] == 'Male') &  (df['Diagnosed'] == 'Yes')]\n",
    "\n",
    "print(df_men_diagnosed)"
   ]
  },
  {
   "cell_type": "markdown",
   "metadata": {},
   "source": [
    "* Create a new dataframe called df_wom which consists of only women who are taller than 390 and undiagnosed\n",
    "\n",
    "* How many rows and columns are there in this dataframe?\n",
    "\n",
    "* Make a new dataframe consisting of the groups heaviest and tallest people.\n",
    "\n",
    "* Make another dataframe consisting of the groups lighest and shortest people.\n",
    "\n",
    "* What is the difference in mean Height and Weight between these two groups?\n",
    "\n",
    "* How big a difference is there in Height and Weight between people who are Diagnosed and people who are not diganosed?"
   ]
  },
  {
   "cell_type": "code",
   "execution_count": null,
   "metadata": {},
   "outputs": [],
   "source": [
    "# Space for additional filtering tasks:\n"
   ]
  },
  {
   "cell_type": "markdown",
   "metadata": {},
   "source": [
    "### Merging Data"
   ]
  },
  {
   "cell_type": "markdown",
   "metadata": {},
   "source": [
    "Imagine you've now collected some neuropsych data on the participants. This data is stored on a seperate csv file 🤦, so you need to import it here, and 'merge' it onto your demographics dataframe so that you can investigate how neuropsych differs between demographic variables ."
   ]
  },
  {
   "cell_type": "markdown",
   "metadata": {},
   "source": [
    "- Using you we know about reading in csv files using pandas, lets import the new dataframe named \"brain_size_clindata.csv\"\n",
    "- Call this object df_clindata."
   ]
  },
  {
   "cell_type": "code",
   "execution_count": 26,
   "metadata": {},
   "outputs": [],
   "source": [
    "#Read in csv files - assigning it to object df_clindata:\n",
    "\n",
    "\n",
    "#View the head of the file (.head()):"
   ]
  },
  {
   "cell_type": "markdown",
   "metadata": {},
   "source": [
    "This data comes from: \n",
    "\n",
    "- Willerman, L., Schultz, R., Rutledge, J. N., and Bigler, E. (1991), \"In Vivo Brain Size and Intelligence,\" Intelligence, 15, 223-228.\n",
    "\n",
    "- https://www3.nd.edu/~busiforc/handouts/Data%20and%20Stories/correlation/Brain%20Size/brainsize.html\n",
    "\n",
    "The columns refer to:\n",
    "\n",
    "* FSIQ: Full Scale IQ scores based on the four Wechsler (1981) subtests\n",
    "* VIQ: Verbal IQ scores based on the four Wechsler (1981) subtests\n",
    "* PIQ: Performance IQ scores based on the four Wechsler (1981) subtests\n",
    "* MRI_Count: total pixel Count from the 18 MRI brain scans 🧠"
   ]
  },
  {
   "cell_type": "markdown",
   "metadata": {},
   "source": [
    "**We have everything we need to merge our data**\n",
    "\n",
    "- .merge() can be used to merge datasets together\n",
    "- Inside the brackets we need to tell it what it is we are merging, and what type of merge we are applying\n",
    "\n",
    "**<font color=red>But what on earth is a merge \"type\" and how do we know which one we need?!</font>** 😩"
   ]
  },
  {
   "cell_type": "code",
   "execution_count": null,
   "metadata": {},
   "outputs": [],
   "source": [
    "from IPython.display import Image\n",
    "Image(filename='mergeTypes.jpeg') "
   ]
  },
  {
   "cell_type": "markdown",
   "metadata": {},
   "source": [
    "## <font color=green>⌨ Task </font>\n",
    "- Use the code below to take a look at your two data tables and determine whether there are any common columns we can merge on"
   ]
  },
  {
   "cell_type": "code",
   "execution_count": 27,
   "metadata": {},
   "outputs": [],
   "source": [
    "#View head of df\n",
    "df.head()"
   ]
  },
  {
   "cell_type": "code",
   "execution_count": 28,
   "metadata": {},
   "outputs": [],
   "source": [
    "#View head of df_clindata\n",
    "df_clindata.head()"
   ]
  },
  {
   "cell_type": "markdown",
   "metadata": {},
   "source": [
    "- Now let's merge our data using a left join and assign the merged table to a new variable, \"df_all\":"
   ]
  },
  {
   "cell_type": "code",
   "execution_count": null,
   "metadata": {},
   "outputs": [],
   "source": [
    "#Creating new merged data table\n",
    "df_all=df.merge(df_clindata, on = ['ppt_id'],how = 'left')"
   ]
  },
  {
   "cell_type": "code",
   "execution_count": 29,
   "metadata": {},
   "outputs": [],
   "source": [
    "#View the first 5 rows of the data table:\n"
   ]
  },
  {
   "cell_type": "markdown",
   "metadata": {},
   "source": [
    "## <font color=green>💬 Discussion </font>\n",
    "- Looking back at the merge diagrams, and your merged table above, what do we think the left join has achieved? \n",
    "- How might the content differ if we did for example, a right join?"
   ]
  },
  {
   "cell_type": "markdown",
   "metadata": {},
   "source": [
    "**Some final learning tasks 🙌**\n",
    "- What is the mean FSIQ for men and women?\n",
    "- What is the mean PIS and VIQ for both men and women?\n",
    "- How many observations do we have in our new dataset\n",
    "    - Does this differ from the number of observations in our original df data table?\n",
    "    - Does this differ from the number of observations in our df_clindata table?\n",
    "    \n",
    "    \n",
    "- Perform an inner-join on the df and df_clindata data tables and name this df_inner\n",
    "    - Does the output of df_inner differ from what we saw with df_all?\n",
    "    - How many observations do we have in our df_inner data table?\n",
    "        - Can you explain the number of observations if these differ from the other datasets? Is this expected?\n",
    "        \n",
    "        \n",
    "- Explore some of the documentation online for pandas and numpy - have a play and see what you can do."
   ]
  },
  {
   "cell_type": "markdown",
   "metadata": {},
   "source": [
    "### NEXT WEEK  👀\n",
    "\n",
    "+ We'll explore the world of charting in python via two key charting libraries:\n",
    "    + MatPlotLib 📊 \n",
    "    + seaborn 🐬\n",
    "    \n",
    "    \n",
    "+ You'll learn how to carry out some basic statistics on your data and plot the results of these using our charting libraries 📈\n",
    "\n",
    "See you next week! 🙋"
   ]
  }
 ],
 "metadata": {
  "kernelspec": {
   "display_name": "Python 3",
   "language": "python",
   "name": "python3"
  },
  "language_info": {
   "codemirror_mode": {
    "name": "ipython",
    "version": 3
   },
   "file_extension": ".py",
   "mimetype": "text/x-python",
   "name": "python",
   "nbconvert_exporter": "python",
   "pygments_lexer": "ipython3",
   "version": "3.7.1"
  }
 },
 "nbformat": 4,
 "nbformat_minor": 2
}
